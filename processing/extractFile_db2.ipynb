{
 "cells": [
  {
   "cell_type": "code",
   "execution_count": 1,
   "source": [
    "import os\n",
    "import numpy as np\n",
    "import glob"
   ],
   "outputs": [],
   "metadata": {}
  },
  {
   "cell_type": "code",
   "execution_count": 2,
   "source": [
    "zipFiles = sorted(glob.glob('../data/ninapro/db2/*.zip'))"
   ],
   "outputs": [],
   "metadata": {}
  },
  {
   "cell_type": "code",
   "execution_count": 3,
   "source": [
    "for zipFile in zipFiles:\n",
    "    dir_subject = os.path.dirname(zipFile)\n",
    "    print(dir_subject)\n",
    "    os.system('unzip -n {} -d {}/'.format(zipFile, dir_subject))"
   ],
   "outputs": [],
   "metadata": {}
  }
 ],
 "metadata": {
  "orig_nbformat": 4,
  "language_info": {
   "name": "python",
   "version": "3.7.10",
   "mimetype": "text/x-python",
   "codemirror_mode": {
    "name": "ipython",
    "version": 3
   },
   "pygments_lexer": "ipython3",
   "nbconvert_exporter": "python",
   "file_extension": ".py"
  },
  "kernelspec": {
   "name": "python3",
   "display_name": "Python 3.7.10 64-bit ('torchlts': conda)"
  },
  "interpreter": {
   "hash": "3e4932aeea9803c1af62998b3f994b61f47b3904cfcb9818f6cbb04aa1244e7f"
  }
 },
 "nbformat": 4,
 "nbformat_minor": 2
}