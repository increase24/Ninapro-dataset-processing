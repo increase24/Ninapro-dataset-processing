{
 "cells": [
  {
   "cell_type": "code",
   "execution_count": 1,
   "source": [
    "import os\n",
    "import numpy as np\n",
    "import glob\n",
    "import scipy.io as scio"
   ],
   "outputs": [],
   "metadata": {}
  },
  {
   "cell_type": "code",
   "execution_count": 2,
   "source": [
    "def process_dataset_for_oneSubject(_subject):\n",
    "    data_paths = sorted(glob.glob(f'../data/ninapro/db1/{_subject}/*.mat'))\n",
    "    EMGData1 = scio.loadmat(data_paths[0])\n",
    "    EMGData2 = scio.loadmat(data_paths[1])\n",
    "    EMGData3 = scio.loadmat(data_paths[2])\n",
    "    emg1 = EMGData1['emg']\n",
    "    restimulus1 = EMGData1['restimulus']\n",
    "    rerepetition1 = EMGData1['rerepetition']\n",
    "    emg2 = EMGData2['emg']\n",
    "    restimulus2 = EMGData2['restimulus']\n",
    "    restimulus2 = restimulus2 + restimulus1.max() * (restimulus2>0).astype('int')\n",
    "    rerepetition2 = EMGData2['rerepetition']\n",
    "    emg3 = EMGData3['emg']\n",
    "    restimulus3 = EMGData3['restimulus']\n",
    "    restimulus3 = restimulus3 + restimulus2.max() * (restimulus3>0).astype('int')\n",
    "    rerepetition3 = EMGData3['rerepetition']\n",
    "    emg = np.vstack([emg1,emg2,emg3])\n",
    "    restimulus = np.vstack([restimulus1,restimulus2,restimulus3]).astype('int')\n",
    "    rerepetition = np.vstack([rerepetition1,rerepetition2,rerepetition3]).astype('int')\n",
    "    if not os.path.exists('../data/ninapro/db1_processed/{}'.format(_subject)):\n",
    "        os.makedirs('../data/ninapro/db1_processed/{}'.format(_subject))\n",
    "    np.savetxt('../data/ninapro/db1_processed/{}/emg.txt'.format(_subject), emg)\n",
    "    np.savetxt('../data/ninapro/db1_processed/{}/restimulus.txt'.format(_subject), restimulus, fmt=\"%d\")\n",
    "    np.savetxt('../data/ninapro/db1_processed/{}/rerepetition.txt'.format(_subject), rerepetition, fmt=\"%d\")"
   ],
   "outputs": [],
   "metadata": {}
  },
  {
   "cell_type": "code",
   "execution_count": 3,
   "source": [
    "_subjects = sorted(os.listdir('../data/ninapro/db1/'))\n",
    "_subjects = [_subject for _subject in _subjects if not _subject.endswith('zip')]\n",
    "for _subject in _subjects:\n",
    "    process_dataset_for_oneSubject(_subject)"
   ],
   "outputs": [],
   "metadata": {}
  }
 ],
 "metadata": {
  "orig_nbformat": 4,
  "language_info": {
   "name": "python",
   "version": "3.7.10",
   "mimetype": "text/x-python",
   "codemirror_mode": {
    "name": "ipython",
    "version": 3
   },
   "pygments_lexer": "ipython3",
   "nbconvert_exporter": "python",
   "file_extension": ".py"
  },
  "kernelspec": {
   "name": "python3",
   "display_name": "Python 3.7.10 64-bit ('torchlts': conda)"
  },
  "interpreter": {
   "hash": "3e4932aeea9803c1af62998b3f994b61f47b3904cfcb9818f6cbb04aa1244e7f"
  }
 },
 "nbformat": 4,
 "nbformat_minor": 2
}